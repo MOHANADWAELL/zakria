{
 "cells": [
  {
   "cell_type": "code",
   "execution_count": 37,
   "id": "b7927542-f6ea-490c-b921-fa995802f18e",
   "metadata": {},
   "outputs": [
    {
     "name": "stdin",
     "output_type": "stream",
     "text": [
      "enter num 100\n"
     ]
    },
    {
     "name": "stdout",
     "output_type": "stream",
     "text": [
      "100=100\n"
     ]
    }
   ],
   "source": [
    " mo=int(input(\"enter num\"))\n",
    "mu=100\n",
    "if mo > mu:\n",
    "    print(f\"{mo}>{mu}\")\n",
    "elif mo == mu:\n",
    "    print(f\"{mo}={mu}\") \n",
    "else:\n",
    "    print(f\"{mo}<{mu}\")"
   ]
  },
  {
   "cell_type": "code",
   "execution_count": 36,
   "id": "08a867d3-5953-4db2-a091-c15ecc8022b0",
   "metadata": {},
   "outputs": [
    {
     "name": "stdin",
     "output_type": "stream",
     "text": [
      "enter name manooooooooooooooooooooooooo\n",
      "hours of work 10\n",
      "how much employe take in hour 500\n"
     ]
    },
    {
     "name": "stdout",
     "output_type": "stream",
     "text": [
      "manooooooooooooooooooooooooo\n",
      "10.0\n",
      "500\n",
      "4500.0\n"
     ]
    }
   ],
   "source": [
    "x=str(input(\"enter name\"))\n",
    "y=float(input(\"hours of work\"))\n",
    "z=int(input(\"how much employe take in hour\"))\n",
    "print(f\"{x}\")\n",
    "print(f\"{y}\")\n",
    "print(f\"{z}\")\n",
    "daliy=(z*y)\n",
    "tax= daliy/10\n",
    "total = daliy-tax\n",
    "print(f\"{total}\")\n",
    "\n",
    "\n",
    "\n",
    "\n",
    "\n",
    "      "
   ]
  },
  {
   "cell_type": "code",
   "execution_count": null,
   "id": "c89d1558-4b5b-45db-9dd1-479d1e8550ae",
   "metadata": {},
   "outputs": [],
   "source": []
  }
 ],
 "metadata": {
  "kernelspec": {
   "display_name": "Python 3 (ipykernel)",
   "language": "python",
   "name": "python3"
  },
  "language_info": {
   "codemirror_mode": {
    "name": "ipython",
    "version": 3
   },
   "file_extension": ".py",
   "mimetype": "text/x-python",
   "name": "python",
   "nbconvert_exporter": "python",
   "pygments_lexer": "ipython3",
   "version": "3.13.0"
  }
 },
 "nbformat": 4,
 "nbformat_minor": 5
}
